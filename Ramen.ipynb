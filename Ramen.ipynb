{
 "cells": [
  {
   "cell_type": "code",
   "execution_count": 1,
   "metadata": {},
   "outputs": [],
   "source": [
    "import pycountry_convert as pc\n",
    "import pandas as pd\n",
    "import numpy as np\n",
    "import matplotlib.pyplot as plt"
   ]
  },
  {
   "cell_type": "code",
   "execution_count": 23,
   "metadata": {},
   "outputs": [
    {
     "data": {
      "text/plain": [
       "'AF=0\\nNA=0\\nOC=0\\nAN=0\\nAS=0\\nEU=0\\nSA=0\\n\\nCup=0\\nPack=0\\nTray=0\\nBowl=0\\nBox=0\\nCan=0\\nBar=0'"
      ]
     },
     "execution_count": 23,
     "metadata": {},
     "output_type": "execute_result"
    }
   ],
   "source": [
    "'''AF=0\n",
    "NA=0\n",
    "OC=0\n",
    "AN=0\n",
    "AS=0\n",
    "EU=0\n",
    "SA=0\n",
    "\n",
    "Cup=0\n",
    "Pack=0\n",
    "Tray=0\n",
    "Bowl=0\n",
    "Box=0\n",
    "Can=0\n",
    "Bar=0'''"
   ]
  },
  {
   "cell_type": "code",
   "execution_count": 3,
   "metadata": {},
   "outputs": [
    {
     "data": {
      "text/html": [
       "<div>\n",
       "<style scoped>\n",
       "    .dataframe tbody tr th:only-of-type {\n",
       "        vertical-align: middle;\n",
       "    }\n",
       "\n",
       "    .dataframe tbody tr th {\n",
       "        vertical-align: top;\n",
       "    }\n",
       "\n",
       "    .dataframe thead th {\n",
       "        text-align: right;\n",
       "    }\n",
       "</style>\n",
       "<table border=\"1\" class=\"dataframe\">\n",
       "  <thead>\n",
       "    <tr style=\"text-align: right;\">\n",
       "      <th></th>\n",
       "      <th>Review #</th>\n",
       "      <th>Brand</th>\n",
       "      <th>Variety</th>\n",
       "      <th>Style</th>\n",
       "      <th>Country</th>\n",
       "      <th>Stars</th>\n",
       "      <th>Top Ten</th>\n",
       "    </tr>\n",
       "  </thead>\n",
       "  <tbody>\n",
       "    <tr>\n",
       "      <th>0</th>\n",
       "      <td>2580</td>\n",
       "      <td>New Touch</td>\n",
       "      <td>T's Restaurant Tantanmen</td>\n",
       "      <td>Cup</td>\n",
       "      <td>Japan</td>\n",
       "      <td>3.75</td>\n",
       "      <td>NaN</td>\n",
       "    </tr>\n",
       "    <tr>\n",
       "      <th>1</th>\n",
       "      <td>2579</td>\n",
       "      <td>Just Way</td>\n",
       "      <td>Noodles Spicy Hot Sesame Spicy Hot Sesame Guan...</td>\n",
       "      <td>Pack</td>\n",
       "      <td>Taiwan</td>\n",
       "      <td>1.00</td>\n",
       "      <td>NaN</td>\n",
       "    </tr>\n",
       "    <tr>\n",
       "      <th>2</th>\n",
       "      <td>2578</td>\n",
       "      <td>Nissin</td>\n",
       "      <td>Cup Noodles Chicken Vegetable</td>\n",
       "      <td>Cup</td>\n",
       "      <td>USA</td>\n",
       "      <td>2.25</td>\n",
       "      <td>NaN</td>\n",
       "    </tr>\n",
       "    <tr>\n",
       "      <th>3</th>\n",
       "      <td>2577</td>\n",
       "      <td>Wei Lih</td>\n",
       "      <td>GGE Ramen Snack Tomato Flavor</td>\n",
       "      <td>Pack</td>\n",
       "      <td>Taiwan</td>\n",
       "      <td>2.75</td>\n",
       "      <td>NaN</td>\n",
       "    </tr>\n",
       "    <tr>\n",
       "      <th>4</th>\n",
       "      <td>2576</td>\n",
       "      <td>Ching's Secret</td>\n",
       "      <td>Singapore Curry</td>\n",
       "      <td>Pack</td>\n",
       "      <td>India</td>\n",
       "      <td>3.75</td>\n",
       "      <td>NaN</td>\n",
       "    </tr>\n",
       "  </tbody>\n",
       "</table>\n",
       "</div>"
      ],
      "text/plain": [
       "   Review #           Brand  \\\n",
       "0      2580       New Touch   \n",
       "1      2579        Just Way   \n",
       "2      2578          Nissin   \n",
       "3      2577         Wei Lih   \n",
       "4      2576  Ching's Secret   \n",
       "\n",
       "                                             Variety Style Country  Stars  \\\n",
       "0                          T's Restaurant Tantanmen    Cup   Japan   3.75   \n",
       "1  Noodles Spicy Hot Sesame Spicy Hot Sesame Guan...  Pack  Taiwan   1.00   \n",
       "2                      Cup Noodles Chicken Vegetable   Cup     USA   2.25   \n",
       "3                      GGE Ramen Snack Tomato Flavor  Pack  Taiwan   2.75   \n",
       "4                                    Singapore Curry  Pack   India   3.75   \n",
       "\n",
       "  Top Ten  \n",
       "0     NaN  \n",
       "1     NaN  \n",
       "2     NaN  \n",
       "3     NaN  \n",
       "4     NaN  "
      ]
     },
     "execution_count": 3,
     "metadata": {},
     "output_type": "execute_result"
    }
   ],
   "source": [
    "raw_dataframe = pd.read_csv(\"ramen-ratings.csv\")\n",
    "raw_dataframe.head()"
   ]
  },
  {
   "cell_type": "code",
   "execution_count": 4,
   "metadata": {},
   "outputs": [
    {
     "name": "stdout",
     "output_type": "stream",
     "text": [
      "<class 'pandas.core.frame.DataFrame'>\n",
      "RangeIndex: 2580 entries, 0 to 2579\n",
      "Data columns (total 7 columns):\n",
      "Review #    2580 non-null int64\n",
      "Brand       2580 non-null object\n",
      "Variety     2580 non-null object\n",
      "Style       2578 non-null object\n",
      "Country     2580 non-null object\n",
      "Stars       2580 non-null float64\n",
      "Top Ten     41 non-null object\n",
      "dtypes: float64(1), int64(1), object(5)\n",
      "memory usage: 141.2+ KB\n"
     ]
    }
   ],
   "source": [
    "raw_dataframe.info()"
   ]
  },
  {
   "cell_type": "code",
   "execution_count": 5,
   "metadata": {},
   "outputs": [],
   "source": [
    "\n",
    "def dropCols(df):\n",
    "    df = df.drop(\"Review #\",axis=1)\n",
    "    df = df.drop(\"Top Ten\",axis=1)\n",
    "    return df\n",
    "\n",
    "def edit_dataframe(df):\n",
    "    df = dropCols(df)\n",
    "    return df\n",
    "\n",
    "new_data = edit_dataframe(raw_dataframe)"
   ]
  },
  {
   "cell_type": "code",
   "execution_count": 6,
   "metadata": {},
   "outputs": [
    {
     "data": {
      "text/html": [
       "<div>\n",
       "<style scoped>\n",
       "    .dataframe tbody tr th:only-of-type {\n",
       "        vertical-align: middle;\n",
       "    }\n",
       "\n",
       "    .dataframe tbody tr th {\n",
       "        vertical-align: top;\n",
       "    }\n",
       "\n",
       "    .dataframe thead th {\n",
       "        text-align: right;\n",
       "    }\n",
       "</style>\n",
       "<table border=\"1\" class=\"dataframe\">\n",
       "  <thead>\n",
       "    <tr style=\"text-align: right;\">\n",
       "      <th></th>\n",
       "      <th>Brand</th>\n",
       "      <th>Variety</th>\n",
       "      <th>Style</th>\n",
       "      <th>Country</th>\n",
       "      <th>Stars</th>\n",
       "    </tr>\n",
       "  </thead>\n",
       "  <tbody>\n",
       "    <tr>\n",
       "      <th>0</th>\n",
       "      <td>New Touch</td>\n",
       "      <td>T's Restaurant Tantanmen</td>\n",
       "      <td>Cup</td>\n",
       "      <td>Japan</td>\n",
       "      <td>3.75</td>\n",
       "    </tr>\n",
       "    <tr>\n",
       "      <th>1</th>\n",
       "      <td>Just Way</td>\n",
       "      <td>Noodles Spicy Hot Sesame Spicy Hot Sesame Guan...</td>\n",
       "      <td>Pack</td>\n",
       "      <td>Taiwan</td>\n",
       "      <td>1.00</td>\n",
       "    </tr>\n",
       "    <tr>\n",
       "      <th>2</th>\n",
       "      <td>Nissin</td>\n",
       "      <td>Cup Noodles Chicken Vegetable</td>\n",
       "      <td>Cup</td>\n",
       "      <td>USA</td>\n",
       "      <td>2.25</td>\n",
       "    </tr>\n",
       "    <tr>\n",
       "      <th>3</th>\n",
       "      <td>Wei Lih</td>\n",
       "      <td>GGE Ramen Snack Tomato Flavor</td>\n",
       "      <td>Pack</td>\n",
       "      <td>Taiwan</td>\n",
       "      <td>2.75</td>\n",
       "    </tr>\n",
       "    <tr>\n",
       "      <th>4</th>\n",
       "      <td>Ching's Secret</td>\n",
       "      <td>Singapore Curry</td>\n",
       "      <td>Pack</td>\n",
       "      <td>India</td>\n",
       "      <td>3.75</td>\n",
       "    </tr>\n",
       "  </tbody>\n",
       "</table>\n",
       "</div>"
      ],
      "text/plain": [
       "            Brand                                            Variety Style  \\\n",
       "0       New Touch                          T's Restaurant Tantanmen    Cup   \n",
       "1        Just Way  Noodles Spicy Hot Sesame Spicy Hot Sesame Guan...  Pack   \n",
       "2          Nissin                      Cup Noodles Chicken Vegetable   Cup   \n",
       "3         Wei Lih                      GGE Ramen Snack Tomato Flavor  Pack   \n",
       "4  Ching's Secret                                    Singapore Curry  Pack   \n",
       "\n",
       "  Country  Stars  \n",
       "0   Japan   3.75  \n",
       "1  Taiwan   1.00  \n",
       "2     USA   2.25  \n",
       "3  Taiwan   2.75  \n",
       "4   India   3.75  "
      ]
     },
     "execution_count": 6,
     "metadata": {},
     "output_type": "execute_result"
    }
   ],
   "source": [
    "new_data.head()"
   ]
  },
  {
   "cell_type": "code",
   "execution_count": 7,
   "metadata": {},
   "outputs": [
    {
     "name": "stdout",
     "output_type": "stream",
     "text": [
      "<class 'pandas.core.frame.DataFrame'>\n",
      "RangeIndex: 2580 entries, 0 to 2579\n",
      "Data columns (total 5 columns):\n",
      "Brand      2580 non-null object\n",
      "Variety    2580 non-null object\n",
      "Style      2578 non-null object\n",
      "Country    2580 non-null object\n",
      "Stars      2580 non-null float64\n",
      "dtypes: float64(1), object(4)\n",
      "memory usage: 100.9+ KB\n"
     ]
    }
   ],
   "source": [
    "new_data.info()"
   ]
  },
  {
   "cell_type": "code",
   "execution_count": 8,
   "metadata": {},
   "outputs": [],
   "source": [
    "def CountContinent(cc):\n",
    "    global AF, NA, OC, AN, AS, EU, SA\n",
    "    \n",
    "    \n",
    "    if (cc==\"AF\"):\n",
    "        AF+=1\n",
    "    elif (cc==\"NA\"):\n",
    "        NA+=1\n",
    "    elif(cc==\"OC\"):\n",
    "        OC+=1\n",
    "    elif(cc==\"AN\"):\n",
    "        AN+=1\n",
    "    elif(cc==\"AS\"):\n",
    "        AS+=1\n",
    "    elif(cc==\"EU\"):\n",
    "        EU+=1\n",
    "    elif(cc==\"SA\"):\n",
    "        SA+=1\n",
    "    else:\n",
    "        None\n",
    "        \n",
    "def CountStyles(st):\n",
    "    global Cup, Pack, Tray, Bowl, Box, Can, Bar, Other\n",
    "    \n",
    "    if (st==\"Cup\"):\n",
    "        Cup+=1\n",
    "    elif (st==\"Pack\"):\n",
    "        Pack+=1\n",
    "    elif(st==\"Tray\"):\n",
    "        Tray+=1\n",
    "    elif(st==\"Bowl\"):\n",
    "        Bowl+=1\n",
    "    elif(st==\"Box\"):\n",
    "        Box+=1\n",
    "    elif(st==\"Can\"):\n",
    "        Can+=1\n",
    "    elif(st==\"Bar\"):\n",
    "        Bar+=1\n",
    "    else:\n",
    "        None"
   ]
  },
  {
   "cell_type": "code",
   "execution_count": 22,
   "metadata": {},
   "outputs": [
    {
     "name": "stdout",
     "output_type": "stream",
     "text": [
      "Japan AS\n",
      "Taiwan AS\n",
      "USA NA\n",
      "India AS\n",
      "South Korea AS\n",
      "Singapore AS\n",
      "Thailand AS\n",
      "Hong Kong AS\n",
      "Vietnam AS\n",
      "Ghana AF\n",
      "Malaysia AS\n",
      "Indonesia AS\n",
      "China AS\n",
      "Nigeria AF\n",
      "Germany EU\n",
      "Hungary EU\n",
      "Mexico NA\n",
      "Fiji OC\n",
      "Australia OC\n",
      "Pakistan AS\n",
      "Bangladesh AS\n",
      "Canada NA\n",
      "Nepal AS\n",
      "Brazil SA\n",
      "United Kingdom EU\n",
      "Myanmar AS\n",
      "Netherlands EU\n",
      "United States NA\n",
      "Cambodia AS\n",
      "Finland EU\n",
      "Philippines AS\n",
      "Sweden EU\n",
      "Colombia SA\n",
      "Estonia EU\n",
      "Poland EU\n",
      "United Arab Emirates AS\n"
     ]
    }
   ],
   "source": [
    "country_names = np.array(new_data.Country.unique())\n",
    "new_data[\"Continent\"] = None\n",
    "for i in range(len(country_names)):\n",
    "    country_code = pc.country_name_to_country_alpha2(country_names[i], cn_name_format=\"default\")\n",
    "    continent_code = pc.country_alpha2_to_continent_code(country_code)\n",
    "    CountContinent(continent_code)\n",
    "    \n",
    "    print(country_names[i], continent_code)\n"
   ]
  },
  {
   "cell_type": "code",
   "execution_count": 19,
   "metadata": {},
   "outputs": [],
   "source": [
    "Cont_list=[AF, NA, OC, AN, AS, EU, SA]"
   ]
  },
  {
   "cell_type": "code",
   "execution_count": 10,
   "metadata": {},
   "outputs": [
    {
     "data": {
      "image/png": "[encoded data removed]",
      "text/plain": [
       "<Figure size 432x288 with 1 Axes>"
      ]
     },
     "metadata": {
      "needs_background": "light"
     },
     "output_type": "display_data"
    }
   ],
   "source": [
    "plt.ylim(0,20)\n",
    "y = Cont_list\n",
    "x = [\"Africa\", \"North America\", \"Oceania\", \"Antartica\", \"Asia\", \"Europe\", \"South America\"]      \n",
    "plt.bar(x, y)\n",
    "plt.xticks(rotation=45)\n",
    "plt.title('Global Manufacturing of Ramen Noodles')\n",
    "plt.xlabel('Continents') \n",
    "plt.ylabel('No. of Manufacturing Countries')\n",
    "plt.show()"
   ]
  },
  {
   "cell_type": "code",
   "execution_count": 24,
   "metadata": {},
   "outputs": [
    {
     "name": "stdout",
     "output_type": "stream",
     "text": [
      "\n",
      "Unique Styles: \n",
      "['Cup' 'Pack' 'Tray' 'Bowl' 'Box' 'Can' 'Bar' nan]\n"
     ]
    },
    {
     "data": {
      "image/png": "[encoded data removed]",
      "text/plain": [
       "<Figure size 432x288 with 1 Axes>"
      ]
     },
     "metadata": {},
     "output_type": "display_data"
    }
   ],
   "source": [
    "print(\"\\nUnique Styles: \")\n",
    "print(new_data.Style.unique())\n",
    "\n",
    "for i in new_data.Style:\n",
    "    CountStyles(i)\n",
    "\n",
    "y = [Cup, Can, Pack, Tray, Box, Bowl, Bar]\n",
    "x = [\"Cup\", \"Can\", \"Pack\", \"Tray\", \"Box\", \"Bowl\", \"Bar\"]      \n",
    "plt.pie(y, labels=x, shadow=True,startangle=90, autopct=\"%1.1f%%\")\n",
    "plt.title('Popularity of Various Packaging Styles')\n",
    "plt.show()\n"
   ]
  },
  {
   "cell_type": "code",
   "execution_count": 12,
   "metadata": {},
   "outputs": [
    {
     "name": "stdout",
     "output_type": "stream",
     "text": [
      "Percentage of  450 = 17.455391776570988\n",
      "Percentage of  1 = 0.038789759503491075\n",
      "Percentage of  1531 = 59.38712179984484\n",
      "Percentage of  108 = 4.189294026377036\n",
      "Percentage of  6 = 0.23273855702094648\n",
      "Percentage of  481 = 18.657874321179207\n",
      "Percentage of  1 = 0.038789759503491075\n"
     ]
    }
   ],
   "source": [
    "for i in y:\n",
    "    print(\"Percentage of \", i , \"=\", (i/np.sum(y))*100)"
   ]
  },
  {
   "cell_type": "code",
   "execution_count": null,
   "metadata": {},
   "outputs": [],
   "source": []
  }
 ],
 "metadata": {
  "kernelspec": {
   "display_name": "Python 3",
   "language": "python",
   "name": "python3"
  },
  "language_info": {
   "codemirror_mode": {
    "name": "ipython",
    "version": 3
   },
   "file_extension": ".py",
   "mimetype": "text/x-python",
   "name": "python",
   "nbconvert_exporter": "python",
   "pygments_lexer": "ipython3",
   "version": "3.7.3"
  }
 },
 "nbformat": 4,
 "nbformat_minor": 2
}
